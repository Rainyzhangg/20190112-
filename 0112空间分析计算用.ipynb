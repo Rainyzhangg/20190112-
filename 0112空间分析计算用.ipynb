{
 "cells": [
  {
   "cell_type": "markdown",
   "metadata": {},
   "source": [
    "## 谱特性 图"
   ]
  },
  {
   "cell_type": "code",
   "execution_count": 1,
   "metadata": {},
   "outputs": [],
   "source": [
    "import numpy as np\n",
    "import matplotlib.pyplot as plt\n",
    "\n",
    "\n",
    "\n"
   ]
  },
  {
   "cell_type": "code",
   "execution_count": 1,
   "metadata": {},
   "outputs": [
    {
     "ename": "SyntaxError",
     "evalue": "invalid syntax (<ipython-input-1-959c9eb35691>, line 4)",
     "output_type": "error",
     "traceback": [
      "\u001b[1;36m  File \u001b[1;32m\"<ipython-input-1-959c9eb35691>\"\u001b[1;36m, line \u001b[1;32m4\u001b[0m\n\u001b[1;33m    r =\u001b[0m\n\u001b[1;37m        ^\u001b[0m\n\u001b[1;31mSyntaxError\u001b[0m\u001b[1;31m:\u001b[0m invalid syntax\n"
     ]
    }
   ],
   "source": [
    "res_real = np.zeros((100,1))\n",
    "res_imag = np.zeros((100,1))\n",
    "for i in np.arange(0,1.01,0.01):\n",
    "    r = \n",
    "    res_real[int(i*100)] = r.real\n",
    "    res_imag[int(i*100)] = r.imag\n",
    "    \n"
   ]
  },
  {
   "cell_type": "code",
   "execution_count": 3,
   "metadata": {},
   "outputs": [
    {
     "name": "stdout",
     "output_type": "stream",
     "text": [
      "[2.08166817e-17 2.46139663e-02 6.47926709e-02 ... 1.00350743e+00\n",
      " 1.00350743e+00 1.00351074e+00]\n"
     ]
    }
   ],
   "source": [
    "import numpy as np\n",
    "from scipy.spatial.distance import cdist\n",
    "import matplotlib.pyplot as plt\n",
    "from scipy import linalg\n",
    "import matplotlib.pyplot as plt\n",
    "def load(path='E:/pro/POI.txt'):\n",
    "    f = open(path,'r')\n",
    "    raw = f.readlines()\n",
    "    f.close()\n",
    "    res = []\n",
    "    for i in raw:\n",
    "        temp = i.split('\\t')\n",
    "        t = []\n",
    "        for j in range(len(temp)-1):\n",
    "            t.append(int(temp[j+1]))\n",
    "        res.append(t)\n",
    "    return np.array(res)\n",
    "def euclidDistance(x1, x2, sqrt_flag=False):\n",
    "    res = np.sum((x1-x2)**2)\n",
    "    res = np.sqrt(res)\n",
    "    return np.exp(-res/2/2.0)\n",
    "    \n",
    "def calEuclidDistanceMatrix(X):\n",
    "    X = np.array(X)\n",
    "    S = np.zeros((len(X), len(X)))\n",
    "    for i in range(len(X)):\n",
    "        for j in range(i+1, len(X)):\n",
    "            S[i][j] = 1.0 * euclidDistance(X[i], X[j])\n",
    "            S[j][i] = S[i][j]\n",
    "    return S\n",
    "\n",
    "def calLaplacianMatrix(adjacentMatrix):\n",
    "    # compute the Degree Matrix: D=sum(A)\n",
    "    degreeMatrix = np.sum(adjacentMatrix, axis=1)\n",
    "    # compute the Laplacian Matrix: L=D-A\n",
    "    laplacianMatrix = np.diag(degreeMatrix) - adjacentMatrix\n",
    "    \n",
    "    #return laplacianMatrix,np.diag(degreeMatrix)\n",
    "    # normailze\n",
    "    # D^(-1/2) L D^(-1/2)\n",
    "    \n",
    "    sqrtDegreeMatrix = np.diag(1.0 / (degreeMatrix ** (0.5)))\n",
    "    \n",
    "    return np.dot(np.dot(sqrtDegreeMatrix, laplacianMatrix), sqrtDegreeMatrix)\n",
    "\n",
    "from sklearn.cluster import KMeans\n",
    "def spKmeans(H,n):\n",
    "    sp_kmeans = KMeans(n_clusters=n).fit(H)\n",
    "    #return sp_kmeans.labels_\n",
    "    return sp_kmeans.labels_,sp_kmeans.cluster_centers_\n",
    "# def writekmean(name,y_pred):\n",
    "#     f2 = open('H:/pro/POI.txt','r')\n",
    "#     raw = f2.readlines()\n",
    "#     f2.close()\n",
    "#     data = [int(i.split('\\t')[0]) for i in raw]\n",
    "    \n",
    "#     f1 = open('H:/project/1231/'+name+'.txt','w')\n",
    "#     f1.write('ID'+'\\t')\n",
    "#     f1.write('label'+'\\n')\n",
    "#     for i in range(len(y_pred)):\n",
    "#         f1.write(str(data[i])+'\\t')\n",
    "#         f1.write(str(y_pred[i])+'\\n')\n",
    "#     f1.close()\n",
    "\n",
    "# data = load()\n",
    "# data = calEuclidDistanceMatrix(data)\n",
    "\n",
    "# Laplacian = calLaplacianMatrix(data)\n",
    "# #lam, H = np.linalg.eig(Laplacian)\n",
    "# #l,d = calLaplacianMatrix(data)\n",
    "# #lam,H = linalg.eig(l,d)\n",
    "# lam,H = np.linalg.eig(Laplacian)\n",
    "\n",
    "#lam,H = np.linalg.eig(l.real)\n",
    "\n",
    "# data = load()\n",
    "# data = calEuclidDistanceMatrix(data)\n",
    "\n",
    "# Laplacian = calLaplacianMatrix(data)\n",
    "# lam,H = np.linalg.eig(Laplacian)\n",
    "data = load()\n",
    "data = calEuclidDistanceMatrix(data)\n",
    "Laplace = calLaplacianMatrix(data)\n",
    "a = np.linalg.eig(Laplace)\n",
    "print(a[0])"
   ]
  },
  {
   "cell_type": "markdown",
   "metadata": {},
   "source": [
    "## G矩阵的谱特性"
   ]
  },
  {
   "cell_type": "code",
   "execution_count": 6,
   "metadata": {},
   "outputs": [
    {
     "ename": "FileNotFoundError",
     "evalue": "[Errno 2] No such file or directory: 'E:/实验数据 proj1/实验数据 proj1/taxi/taxi_od1_1000.csv'",
     "output_type": "error",
     "traceback": [
      "\u001b[1;31m---------------------------------------------------------------------------\u001b[0m",
      "\u001b[1;31mFileNotFoundError\u001b[0m                         Traceback (most recent call last)",
      "\u001b[1;32m<ipython-input-6-9982f5bf62dd>\u001b[0m in \u001b[0;36m<module>\u001b[1;34m()\u001b[0m\n\u001b[0;32m     62\u001b[0m     \u001b[1;32mreturn\u001b[0m \u001b[0mres\u001b[0m\u001b[1;33m\u001b[0m\u001b[0m\n\u001b[0;32m     63\u001b[0m \u001b[1;33m\u001b[0m\u001b[0m\n\u001b[1;32m---> 64\u001b[1;33m \u001b[0mdata\u001b[0m \u001b[1;33m=\u001b[0m \u001b[0mload_data2\u001b[0m\u001b[1;33m(\u001b[0m\u001b[1;33m)\u001b[0m\u001b[1;33m\u001b[0m\u001b[0m\n\u001b[0m\u001b[0;32m     65\u001b[0m \u001b[0mc\u001b[0m \u001b[1;33m=\u001b[0m \u001b[0mgoogle_pagerank\u001b[0m\u001b[1;33m(\u001b[0m\u001b[0mdata\u001b[0m\u001b[1;33m,\u001b[0m\u001b[1;36m0.85\u001b[0m\u001b[1;33m)\u001b[0m\u001b[1;33m\u001b[0m\u001b[0m\n",
      "\u001b[1;32m<ipython-input-6-9982f5bf62dd>\u001b[0m in \u001b[0;36mload_data2\u001b[1;34m(path)\u001b[0m\n\u001b[0;32m     51\u001b[0m     \u001b[1;32mreturn\u001b[0m \u001b[0mres\u001b[0m\u001b[1;33m\u001b[0m\u001b[0m\n\u001b[0;32m     52\u001b[0m \u001b[1;32mdef\u001b[0m \u001b[0mload_data2\u001b[0m\u001b[1;33m(\u001b[0m\u001b[0mpath\u001b[0m\u001b[1;33m=\u001b[0m\u001b[1;34m'E:/实验数据 proj1/实验数据 proj1/taxi/taxi_od1_1000.csv'\u001b[0m\u001b[1;33m)\u001b[0m\u001b[1;33m:\u001b[0m\u001b[1;33m\u001b[0m\u001b[0m\n\u001b[1;32m---> 53\u001b[1;33m     \u001b[0mf\u001b[0m \u001b[1;33m=\u001b[0m \u001b[0mopen\u001b[0m\u001b[1;33m(\u001b[0m\u001b[0mpath\u001b[0m\u001b[1;33m,\u001b[0m\u001b[1;34m'r'\u001b[0m\u001b[1;33m)\u001b[0m\u001b[1;33m\u001b[0m\u001b[0m\n\u001b[0m\u001b[0;32m     54\u001b[0m     \u001b[0mrawdata\u001b[0m \u001b[1;33m=\u001b[0m \u001b[0mf\u001b[0m\u001b[1;33m.\u001b[0m\u001b[0mreadlines\u001b[0m\u001b[1;33m(\u001b[0m\u001b[1;33m)\u001b[0m\u001b[1;33m[\u001b[0m\u001b[1;36m1\u001b[0m\u001b[1;33m:\u001b[0m\u001b[1;33m]\u001b[0m\u001b[1;33m\u001b[0m\u001b[0m\n\u001b[0;32m     55\u001b[0m     \u001b[0mres\u001b[0m \u001b[1;33m=\u001b[0m \u001b[1;33m[\u001b[0m\u001b[1;33m]\u001b[0m\u001b[1;33m\u001b[0m\u001b[0m\n",
      "\u001b[1;31mFileNotFoundError\u001b[0m: [Errno 2] No such file or directory: 'E:/实验数据 proj1/实验数据 proj1/taxi/taxi_od1_1000.csv'"
     ]
    }
   ],
   "source": [
    "import numpy as np\n",
    "#暂定a为0.9 迭代次数为20次\n",
    "def google_pagerank(rawdata,a):\n",
    "    #首先转化为nparray\n",
    "    npdata = np.array(rawdata)\n",
    "    sdata = np.ones((npdata.shape))\n",
    "    adata = np.ones((npdata.shape))\n",
    "    #然后对全0行即没有指出的page进行处理\n",
    "    for i in range(npdata.shape[0]):\n",
    "        if sum(npdata[i][:])==0:\n",
    "            npdata[i][:] = [1 for i in range(npdata.shape[1])]\n",
    "    #通过计算的到S矩阵---data\n",
    "    for i in range(npdata.shape[0]):\n",
    "        s = sum(npdata[i])\n",
    "        for j in range(npdata.shape[1]):\n",
    "            sdata[i][j] = npdata[i][j]/s\n",
    "            adata[i][j] = 1/adata.shape[0]\n",
    "    #然后取a=0.9 计算G矩阵---sdata\n",
    "    for i in range(sdata.shape[0]):\n",
    "        for j in range(sdata.shape[1]):\n",
    "            sdata[i][j] = a*sdata[i][j] + (1-a)*adata[i][j]\n",
    "    return sdata\n",
    "    c = np.linalg.eig(sdata)\n",
    "    \n",
    "    s = np.array([1/sdata.shape[0] for i in range(sdata.shape[0])]).T\n",
    "    #for i in range(20):\n",
    "        #s = s.dot(sdata)\n",
    "    counter = 0\n",
    "    old_s = np.array([1 for i in range(s.shape[0])])\n",
    "    while max(abs(old_s-s))>0.00000000001:\n",
    "        \n",
    "        old_s = s\n",
    "        s = s.dot(sdata)\n",
    "        counter += 1\n",
    "    \n",
    "    res = []\n",
    "    for i in range(len(s)):\n",
    "        res.append(s[i])\n",
    "    return res\n",
    "\n",
    "def load_data1(path='E:/实验数据 proj1/实验数据 proj1/metro201608/8_D_Y.csv'):\n",
    "    f = open(path,'r')\n",
    "    rawdata = f.readlines()[1:]\n",
    "    res = []\n",
    "    for i in rawdata:\n",
    "        temp = i.split(',')\n",
    "        tempres = []\n",
    "        for j in range(len(temp)-2):\n",
    "            tempres.append(int(temp[j+2]))\n",
    "        res.append(tempres)\n",
    "    return res\n",
    "def load_data2(path='E:/实验数据 proj1/实验数据 proj1/taxi/taxi_od1_1000.csv'):\n",
    "    f = open(path,'r')\n",
    "    rawdata = f.readlines()[1:]\n",
    "    res = []\n",
    "    for i in rawdata:\n",
    "        temp = i.split(',')\n",
    "        tempres = []\n",
    "        for i in range(len(temp)-1):\n",
    "            tempres.append(int(temp[i+1]))\n",
    "        res.append(tempres)\n",
    "    return res\n",
    "\n",
    "data = load_data2()\n",
    "c = google_pagerank(data,0.85)"
   ]
  },
  {
   "cell_type": "code",
   "execution_count": null,
   "metadata": {},
   "outputs": [],
   "source": []
  }
 ],
 "metadata": {
  "kernelspec": {
   "display_name": "Python 3",
   "language": "python",
   "name": "python3"
  },
  "language_info": {
   "codemirror_mode": {
    "name": "ipython",
    "version": 3
   },
   "file_extension": ".py",
   "mimetype": "text/x-python",
   "name": "python",
   "nbconvert_exporter": "python",
   "pygments_lexer": "ipython3",
   "version": "3.6.5"
  }
 },
 "nbformat": 4,
 "nbformat_minor": 2
}
